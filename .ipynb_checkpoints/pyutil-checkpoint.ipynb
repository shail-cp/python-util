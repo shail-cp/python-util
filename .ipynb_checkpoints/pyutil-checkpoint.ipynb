{
 "cells": [
  {
   "cell_type": "code",
   "execution_count": 3,
   "metadata": {},
   "outputs": [
    {
     "name": "stdout",
     "output_type": "stream",
     "text": [
      "{\n",
      " \"cells\": [\n",
      "  {\n",
      "   \"cell_type\": \"code\",\n",
      "   \"execution_count\": 3,\n",
      "   \"metadata\": {},\n",
      "   \"outputs\": [\n",
      "    {\n",
      "     \"ename\": \"FileNotFoundError\",\n",
      "     \"evalue\": \"[Errno 2] No such file or directory: 'myfile.txt'\",\n",
      "     \"output_type\": \"error\",\n",
      "     \"traceback\": [\n",
      "      \"\\u001b[1;31m---------------------------------------------------------------------------\\u001b[0m\",\n",
      "      \"\\u001b[1;31mFileNotFoundError\\u001b[0m                         Traceback (most recent call last)\",\n",
      "      \"\\u001b[1;32m<ipython-input-3-1b0b349782b5>\\u001b[0m in \\u001b[0;36m<module>\\u001b[1;34m\\u001b[0m\\n\\u001b[1;32m----> 1\\u001b[1;33m \\u001b[0mf\\u001b[0m \\u001b[1;33m=\\u001b[0m \\u001b[0mopen\\u001b[0m\\u001b[1;33m(\\u001b[0m\\u001b[1;34m\\\"myfile.txt\\\"\\u001b[0m\\u001b[1;33m,\\u001b[0m \\u001b[1;34m\\\"r\\\"\\u001b[0m\\u001b[1;33m,\\u001b[0m \\u001b[0mencoding\\u001b[0m\\u001b[1;33m=\\u001b[0m\\u001b[1;34m\\\"utf-8\\\"\\u001b[0m\\u001b[1;33m)\\u001b[0m\\u001b[1;33m\\u001b[0m\\u001b[1;33m\\u001b[0m\\u001b[0m\\n\\u001b[0m\",\n",
      "      \"\\u001b[1;31mFileNotFoundError\\u001b[0m: [Errno 2] No such file or directory: 'myfile.txt'\"\n",
      "     ]\n",
      "    }\n",
      "   ],\n",
      "   \"source\": [\n",
      "    \"f = open(\\\"pyutil.py\\\", \\\"r\\\", encoding=\\\"utf-8\\\")\"\n",
      "   ]\n",
      "  },\n",
      "  {\n",
      "   \"cell_type\": \"code\",\n",
      "   \"execution_count\": null,\n",
      "   \"metadata\": {},\n",
      "   \"outputs\": [],\n",
      "   \"source\": []\n",
      "  }\n",
      " ],\n",
      " \"metadata\": {\n",
      "  \"kernelspec\": {\n",
      "   \"display_name\": \"Python 3\",\n",
      "   \"language\": \"python\",\n",
      "   \"name\": \"python3\"\n",
      "  },\n",
      "  \"language_info\": {\n",
      "   \"codemirror_mode\": {\n",
      "    \"name\": \"ipython\",\n",
      "    \"version\": 3\n",
      "   },\n",
      "   \"file_extension\": \".py\",\n",
      "   \"mimetype\": \"text/x-python\",\n",
      "   \"name\": \"python\",\n",
      "   \"nbconvert_exporter\": \"python\",\n",
      "   \"pygments_lexer\": \"ipython3\",\n",
      "   \"version\": \"3.8.3\"\n",
      "  }\n",
      " },\n",
      " \"nbformat\": 4,\n",
      " \"nbformat_minor\": 4\n",
      "}\n",
      "\n"
     ]
    }
   ],
   "source": [
    "f = open(\"pyutil.ipynb\", \"r\", encoding=\"utf-8\")\n",
    "print(f.read())"
   ]
  },
  {
   "cell_type": "code",
   "execution_count": null,
   "metadata": {},
   "outputs": [],
   "source": []
  }
 ],
 "metadata": {
  "kernelspec": {
   "display_name": "Python 3",
   "language": "python",
   "name": "python3"
  },
  "language_info": {
   "codemirror_mode": {
    "name": "ipython",
    "version": 3
   },
   "file_extension": ".py",
   "mimetype": "text/x-python",
   "name": "python",
   "nbconvert_exporter": "python",
   "pygments_lexer": "ipython3",
   "version": "3.8.3"
  }
 },
 "nbformat": 4,
 "nbformat_minor": 4
}
